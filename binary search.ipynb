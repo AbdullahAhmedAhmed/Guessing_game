{
 "cells": [
  {
   "cell_type": "code",
   "execution_count": 3,
   "id": "449ca116",
   "metadata": {},
   "outputs": [
    {
     "name": "stdout",
     "output_type": "stream",
     "text": [
      "choose a random number from the given list and keep it in your mind\n",
      ":  [1, 2, 3, 4, 5, 6, 7, 8, 9, 10]\n",
      "After that the program will try to guess your number by asking you if its higher or lower\n",
      "\n",
      "Is it 5 ?\n",
      "press 1 for  Yes and 2 for No ?\n",
      " 2\n",
      "press 1 if it is higher than expected and press 2 for lower than expected: 2\n",
      "Is it 7? \n",
      " press 1 for  Yes and 2 for No ? 2\n",
      "press 1 if it is higher than expected and press 2 for lower than expected: 1\n",
      "Is it 3? \n",
      " press 1 for  Yes and 2 for No ? 2\n",
      "press 1 if it is higher than expected and press 2 for lower than expected: 2\n",
      "Is it 6? \n",
      " press 1 for  Yes and 2 for No ? 1\n",
      "The game is ended\n"
     ]
    }
   ],
   "source": [
    "import statistics as mn\n",
    "x =[i for i in range(1,11)]\n",
    "print(\"choose a random number from the given list and keep it in your mind\\n: \",x)\n",
    "print(\"After that the program will try to guess your number by asking you if its higher or lower\\n\")\n",
    "median = int(mn.median(x))\n",
    "print(f\"Is it {median} ?\")\n",
    "answer = input(\"press 1 for  Yes and 2 for No ?\\n \")\n",
    "while answer == \"2\":\n",
    "    if answer == \"2\":\n",
    "        \n",
    "        new_answer = input(\"press 1 if it is higher than expected and press 2 for lower than expected: \")\n",
    "        \n",
    "        if new_answer == \"1\":\n",
    "            \n",
    "            x = [i for i in range(1,median)]\n",
    "            median = int(mn.median(x))\n",
    "            \n",
    "\n",
    "        elif new_answer== \"2\":\n",
    "            x = [i for i in range(median,11)]\n",
    "            median = int(mn.median(x))\n",
    "        \n",
    "            \n",
    "            \n",
    "    answer = input(f\"Is it {median}? \\n press 1 for  Yes and 2 for No ? \")\n",
    "else:\n",
    "    print(\"The game is ended\")\n",
    "    \n",
    "    "
   ]
  },
  {
   "cell_type": "code",
   "execution_count": null,
   "id": "56506121",
   "metadata": {},
   "outputs": [],
   "source": []
  }
 ],
 "metadata": {
  "kernelspec": {
   "display_name": "Python 3 (ipykernel)",
   "language": "python",
   "name": "python3"
  },
  "language_info": {
   "codemirror_mode": {
    "name": "ipython",
    "version": 3
   },
   "file_extension": ".py",
   "mimetype": "text/x-python",
   "name": "python",
   "nbconvert_exporter": "python",
   "pygments_lexer": "ipython3",
   "version": "3.10.9"
  }
 },
 "nbformat": 4,
 "nbformat_minor": 5
}
